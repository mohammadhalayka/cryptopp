{
  "nbformat": 4,
  "nbformat_minor": 0,
  "metadata": {
    "colab": {
      "provenance": [],
      "authorship_tag": "ABX9TyPbpxgEsWeLd7ersBd0RGlP",
      "include_colab_link": true
    },
    "kernelspec": {
      "name": "python3",
      "display_name": "Python 3"
    },
    "language_info": {
      "name": "python"
    }
  },
  "cells": [
    {
      "cell_type": "markdown",
      "metadata": {
        "id": "view-in-github",
        "colab_type": "text"
      },
      "source": [
        "<a href=\"https://colab.research.google.com/github/mohammadhalayka/cryptopp/blob/master/Q2(2).ipynb\" target=\"_parent\"><img src=\"https://colab.research.google.com/assets/colab-badge.svg\" alt=\"Open In Colab\"/></a>"
      ]
    },
    {
      "cell_type": "code",
      "execution_count": 1,
      "metadata": {
        "id": "aAeo2l8WIyDM",
        "outputId": "203b4980-a696-4c07-9178-c15aef00d32a",
        "colab": {
          "base_uri": "https://localhost:8080/"
        }
      },
      "outputs": [
        {
          "output_type": "stream",
          "name": "stdout",
          "text": [
            "Risk type: Credit Risk\n",
            "Risk type: Supply Risk\n"
          ]
        }
      ],
      "source": [
        "import re\n",
        "\n",
        "text = \"\"\"Concentration of Risk: Credit Risk\n",
        "Financial instruments that potentially subject us to a concentration of\n",
        "credit risk consist of cash, cash equivalents, marketable securities,\n",
        "restricted cash, accounts receivable, convertible note hedges, and\n",
        "interest rate swaps. Our cash balances are primarily invested in money\n",
        "market funds or on deposit at high credit quality financial\n",
        "institutions in the U.S. These deposits are typically in excess of\n",
        "insured limits. As of September 30, 2021 and December 31, 2020, no\n",
        "entity represented 10% or more of our total accounts receivable\n",
        "balance. The risk of concentration for our convertible note hedges and\n",
        "interest rate swaps is mitigated by transacting with several highly-\n",
        "rated multinational banks.\n",
        "\n",
        "Concentration of Risk: Supply Risk\n",
        "We are dependent on our suppliers, including single source suppliers,\n",
        "and the inability of these suppliers to deliver necessary components of\n",
        "our products in a timely manner at prices, quality levels and volumes\n",
        "acceptable to us, or our inability to efficiently manage these\n",
        "components from these suppliers, could have a material adverse effect\n",
        "on our business, prospects, financial condition and operating results.\"\"\"\n",
        "\n",
        "pattern = r\"Concentration of Risk: (\\w+ \\w+)\"\n",
        "\n",
        "matches = re.findall(pattern, text)\n",
        "\n",
        "for match in matches:\n",
        "    print(f\"Risk type: {match}\")"
      ]
    }
  ]
}
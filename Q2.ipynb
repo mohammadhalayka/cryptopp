{
  "nbformat": 4,
  "nbformat_minor": 0,
  "metadata": {
    "colab": {
      "provenance": [],
      "authorship_tag": "ABX9TyOorgyPjVhp8fEVnTurzA4u",
      "include_colab_link": true
    },
    "kernelspec": {
      "name": "python3",
      "display_name": "Python 3"
    },
    "language_info": {
      "name": "python"
    }
  },
  "cells": [
    {
      "cell_type": "markdown",
      "metadata": {
        "id": "view-in-github",
        "colab_type": "text"
      },
      "source": [
        "<a href=\"https://colab.research.google.com/github/mohammadhalayka/cryptopp/blob/master/Q2.ipynb\" target=\"_parent\"><img src=\"https://colab.research.google.com/assets/colab-badge.svg\" alt=\"Open In Colab\"/></a>"
      ]
    },
    {
      "cell_type": "code",
      "execution_count": null,
      "metadata": {
        "colab": {
          "base_uri": "https://localhost:8080/"
        },
        "id": "OLWuGnthHIrA",
        "outputId": "7faad7ba-7115-4e2b-b357-9d3fccc1b846"
      },
      "outputs": [
        {
          "output_type": "stream",
          "name": "stdout",
          "text": [
            "Link: https://twitter.com/elonmusk\n",
            "Name: elonmusk\n",
            "Link: https://twitter.com/teslarati\n",
            "Name: teslarati\n",
            "Link: https://twitter.com/dummy_tesla\n",
            "Name: dummy_tesla\n",
            "Link: https://twitter.com/dummy_2_tesla\n",
            "Name: dummy_2_tesla\n"
          ]
        }
      ],
      "source": [
        "import re\n",
        "\n",
        "\n",
        "text = \"Follow our leader Elon musk on twitter here: https://twitter.com/elonmusk, more information on Tesla's products can be found at https://www.tesla.com/. Also here are leading influencers for tesla related news, https://twitter.com/teslarati https://twitter.com/dummy_tesla https://twitter.com/dummy_2_tesla\"\n",
        "\n",
        "pattern = r\"(https://twitter\\.com/)(\\w+)\"\n",
        "\n",
        "matches = re.findall(pattern, text)\n",
        "\n",
        "for match in matches:\n",
        "    print(f\"Link: {match[0]}{match[1]}\")\n",
        "    print(f\"Name: {match[1]}\")"
      ]
    }
  ]
}
{
  "nbformat": 4,
  "nbformat_minor": 0,
  "metadata": {
    "colab": {
      "provenance": [],
      "authorship_tag": "ABX9TyPLUnByg+dsZ+zYrv6kOarP",
      "include_colab_link": true
    },
    "kernelspec": {
      "name": "python3",
      "display_name": "Python 3"
    },
    "language_info": {
      "name": "python"
    }
  },
  "cells": [
    {
      "cell_type": "markdown",
      "metadata": {
        "id": "view-in-github",
        "colab_type": "text"
      },
      "source": [
        "<a href=\"https://colab.research.google.com/github/mohammadhalayka/cryptopp/blob/master/Q2(3).ipynb\" target=\"_parent\"><img src=\"https://colab.research.google.com/assets/colab-badge.svg\" alt=\"Open In Colab\"/></a>"
      ]
    },
    {
      "cell_type": "code",
      "execution_count": 1,
      "metadata": {
        "colab": {
          "base_uri": "https://localhost:8080/"
        },
        "id": "SFTF2VLRJVUJ",
        "outputId": "12741463-54de-40d8-cf59-b314957db2ee"
      },
      "outputs": [
        {
          "output_type": "stream",
          "name": "stdout",
          "text": [
            "Period: FY2021 Q1\n",
            "Number: $4.85 billion\n",
            "Period: FY2021 S1\n",
            "Number: $8 billion\n"
          ]
        }
      ],
      "source": [
        "import re\n",
        "\n",
        "# Define the text\n",
        "text = \"Tesla's gross cost of operating lease vehicles in FY2021 Q1 was $4.85 billion. BMW’s gross cost of operating vehicles in FY2021 S1 was $8 billion.\"\n",
        "\n",
        "# Define the regular expression to match financial numbers and periods\n",
        "pattern = r\"(\\w{2}\\d{4} \\w{1,2}) was (\\$\\d+(?:\\.\\d+)? \\w+)\"\n",
        "\n",
        "# Find all the matches in the text\n",
        "matches = re.findall(pattern, text)\n",
        "\n",
        "# Print the matches\n",
        "for match in matches:\n",
        "    # match is a tuple of (period, number)\n",
        "    print(f\"Period: {match[0]}\")\n",
        "    print(f\"Number: {match[1]}\")"
      ]
    }
  ]
}